{
 "cells": [
  {
   "cell_type": "markdown",
   "id": "888e1bed-d641-4648-8358-4601857af291",
   "metadata": {},
   "source": [
    "# Gallery"
   ]
  },
  {
   "cell_type": "code",
   "execution_count": null,
   "id": "a224de36-9804-4083-b032-e9990eb536f2",
   "metadata": {},
   "outputs": [],
   "source": [
    "import sys\n",
    "import numpy as np\n",
    "\n",
    "sys.path.append('..')"
   ]
  },
  {
   "cell_type": "code",
   "execution_count": null,
   "id": "3e8aa39f-6101-4941-a929-b48e0668c9c2",
   "metadata": {},
   "outputs": [],
   "source": [
    "import uplot"
   ]
  },
  {
   "cell_type": "markdown",
   "id": "71222d3a-9d51-4a67-934f-6f5033b2c33e",
   "metadata": {},
   "source": [
    "## plot"
   ]
  },
  {
   "cell_type": "code",
   "execution_count": null,
   "id": "b67d9226-9357-411f-8352-b8f862670679",
   "metadata": {},
   "outputs": [],
   "source": [
    "engine = 'mpl'"
   ]
  },
  {
   "cell_type": "markdown",
   "id": "148431ac-5534-4470-83d0-724587afb2a2",
   "metadata": {},
   "source": [
    "### 2d"
   ]
  },
  {
   "cell_type": "code",
   "execution_count": null,
   "id": "9570834f-c25d-4174-b620-06eddd2908c0",
   "metadata": {},
   "outputs": [],
   "source": [
    "x = np.linspace(0, np.pi*4, num=100)\n",
    "y1 = np.sin(x)\n",
    "y2 = np.sin(x - np.pi/4)\n",
    "y3 = np.sin(x - 2*np.pi/4)\n",
    "y4 = np.sin(x - 3*np.pi/4)"
   ]
  },
  {
   "cell_type": "code",
   "execution_count": null,
   "id": "defe4c20-8742-4c87-8657-37fab5930e77",
   "metadata": {},
   "outputs": [],
   "source": [
    "fig = uplot.figure(engine)\n",
    "fig.plot(x, y1, name='data #1')\n",
    "fig.plot(x, y2, name='data #2')\n",
    "fig.plot(x, y3, name='data #3')\n",
    "fig.plot(x, y4, name='data #4')\n",
    "fig.xlabel('X')\n",
    "fig.ylabel('Y')\n",
    "fig.legend()\n",
    "fig.show()"
   ]
  },
  {
   "cell_type": "markdown",
   "id": "848a2eaf-9b4a-43f9-9c00-8d4bd1db7d45",
   "metadata": {},
   "source": [
    "### 3d"
   ]
  },
  {
   "cell_type": "code",
   "execution_count": null,
   "id": "6a6b187e-80a6-478b-afa0-bb3810f5984f",
   "metadata": {},
   "outputs": [],
   "source": [
    "x = np.linspace(0, np.pi*4, num=100)\n",
    "y1 = np.sin(x)\n",
    "y2 = np.sin(x - np.pi/4)"
   ]
  },
  {
   "cell_type": "code",
   "execution_count": null,
   "id": "2abc37ea-a517-4ac6-8b12-539b357d36b5",
   "metadata": {},
   "outputs": [],
   "source": [
    "fig = uplot.figure(engine)\n",
    "fig.plot(x=y1, y=y2, z=x, name='data #1')\n",
    "fig.plot(x=y1, y=y2, z=x+2, name='data #2')\n",
    "fig.plot(x=y1, y=y2, z=x+4, name='data #1')\n",
    "fig.legend()\n",
    "fig.show()"
   ]
  },
  {
   "cell_type": "markdown",
   "id": "4afcbbaa-dbe9-4b25-9f26-3514eaf5ce92",
   "metadata": {},
   "source": [
    "## scatter"
   ]
  },
  {
   "cell_type": "code",
   "execution_count": null,
   "id": "3e2c1123-92a8-4aaf-a7f6-cf5893a98f70",
   "metadata": {},
   "outputs": [],
   "source": [
    "engine = 'mpl'"
   ]
  },
  {
   "cell_type": "markdown",
   "id": "f803124d-8a81-4239-b3c3-16ac30ab9bab",
   "metadata": {},
   "source": [
    "### 2d"
   ]
  },
  {
   "cell_type": "code",
   "execution_count": null,
   "id": "31572136-08e5-4fed-8fab-6a508b5df98c",
   "metadata": {},
   "outputs": [],
   "source": [
    "x = np.random.uniform(size=100)\n",
    "y = np.random.uniform(size=100)"
   ]
  },
  {
   "cell_type": "code",
   "execution_count": null,
   "id": "9dd4b9d3-ab48-4d95-ae21-c69f57faa292",
   "metadata": {},
   "outputs": [],
   "source": [
    "fig = uplot.figure(engine)\n",
    "fig.scatter(x, y)\n",
    "fig.show()"
   ]
  },
  {
   "cell_type": "markdown",
   "id": "587a51ad-80fa-4fd1-b296-e5235fd8d932",
   "metadata": {},
   "source": [
    "### 2d - color per point"
   ]
  },
  {
   "cell_type": "code",
   "execution_count": null,
   "id": "993c93b2-ebf5-4b3b-8bf5-fbfe1c9552f7",
   "metadata": {},
   "outputs": [],
   "source": [
    "x = np.random.uniform(size=100)\n",
    "y = np.random.uniform(size=100)\n",
    "# random color per point\n",
    "rgb_colors = np.random.uniform(low=0.1, high=0.8, size=[100, 3])"
   ]
  },
  {
   "cell_type": "code",
   "execution_count": null,
   "id": "48f020d0-ef07-4c4a-9a29-77c16aa785df",
   "metadata": {},
   "outputs": [],
   "source": [
    "fig = uplot.figure(engine)\n",
    "fig.scatter(x, y, color=uplot.color.rgb_to_str(rgb_colors))\n",
    "fig.show()"
   ]
  },
  {
   "cell_type": "markdown",
   "id": "ae1ba5f8-f368-473c-86ad-31d6a41fa788",
   "metadata": {},
   "source": [
    "### 3d"
   ]
  },
  {
   "cell_type": "code",
   "execution_count": null,
   "id": "855d8cac-5412-464d-8b41-7efdaec2a94e",
   "metadata": {},
   "outputs": [],
   "source": [
    "z = np.linspace(0, np.pi*4, num=100)\n",
    "x = np.sin(z)\n",
    "y = np.sin(z - np.pi/4)"
   ]
  },
  {
   "cell_type": "code",
   "execution_count": null,
   "id": "79c8cd6a-9d5a-4bb5-b793-52ed020fd1e8",
   "metadata": {},
   "outputs": [],
   "source": [
    "fig = uplot.figure(engine)\n",
    "fig.scatter(x, y, z, name='data #1')\n",
    "fig.scatter(x, y, x-5, name='data #2')\n",
    "fig.legend()\n",
    "fig.show()"
   ]
  },
  {
   "cell_type": "markdown",
   "id": "64afb01a-8aff-490a-995d-db318bff2a18",
   "metadata": {},
   "source": [
    "### 3d - color per point"
   ]
  },
  {
   "cell_type": "code",
   "execution_count": null,
   "id": "f9253c92-8ca2-4e1a-8dd7-7af6de89f323",
   "metadata": {},
   "outputs": [],
   "source": [
    "z = np.linspace(0, np.pi*4, num=100)\n",
    "x = np.sin(z)\n",
    "y = np.sin(z - np.pi/4)\n",
    "\n",
    "rgb_colors = np.random.uniform(low=0.1, high=0.9, size=[100, 3])"
   ]
  },
  {
   "cell_type": "code",
   "execution_count": null,
   "id": "830c8715-f609-44b4-8e8b-aac033261671",
   "metadata": {},
   "outputs": [],
   "source": [
    "fig = uplot.figure(engine)\n",
    "fig.scatter(x, y, z, color=uplot.color.rgb_to_str(rgb_colors))\n",
    "fig.show()"
   ]
  },
  {
   "cell_type": "markdown",
   "id": "45492ea4-3f4c-43a4-b0f1-db4daaf8ff79",
   "metadata": {},
   "source": [
    "## surface3d"
   ]
  },
  {
   "cell_type": "markdown",
   "id": "9bbd117c-eacf-4e74-a1a7-9e372f691a0c",
   "metadata": {},
   "source": [
    "### uniform grid"
   ]
  },
  {
   "cell_type": "code",
   "execution_count": null,
   "id": "44f11e7f-bfed-4839-9ad2-3b969df8925c",
   "metadata": {},
   "outputs": [],
   "source": [
    "x = np.arange(0, 5, 0.25)\n",
    "y = np.arange(-5, 5, 0.25)\n",
    "X, Y = np.meshgrid(x, y)\n",
    "Z = np.sin(np.sqrt(X**2 + Y**2))"
   ]
  },
  {
   "cell_type": "code",
   "execution_count": null,
   "id": "65fb8b83-ed8b-4cf5-920e-17903b3a410b",
   "metadata": {},
   "outputs": [],
   "source": [
    "fig = uplot.figure('plotly', aspect_ratio=0.8)\n",
    "fig.surface3d(x, y, Z,   name='data #1', colormap='twilight')\n",
    "fig.surface3d(x, y, Z*6, name='data #2', show_colormap=True)\n",
    "fig.xlabel('X Axis')\n",
    "fig.ylabel('Y Axis')\n",
    "fig.zlabel('Z Axis')\n",
    "fig.legend()\n",
    "fig.show()"
   ]
  },
  {
   "cell_type": "markdown",
   "id": "5ad1c5c7-ff00-47bc-ad81-f99b393a65ca",
   "metadata": {},
   "source": [
    "### non-uniform grid"
   ]
  },
  {
   "cell_type": "code",
   "execution_count": null,
   "id": "a8ed19db-cef8-42c0-ae98-2ecb5d456952",
   "metadata": {},
   "outputs": [],
   "source": [
    "# non-uniform grid (array of points)\n",
    "x = [ 0, 1, 2, 0, 2, 1, 0, 1, 2 ]\n",
    "y = [ 0, 1, 2, 2, 0, 0, 1, 2, 1 ]\n",
    "# values\n",
    "z = [ 1, 1, 1, 1, 1, 0, 0, 0, 0 ]"
   ]
  },
  {
   "cell_type": "code",
   "execution_count": null,
   "id": "2b2a69d6-8b8d-4d08-a442-693abe998528",
   "metadata": {},
   "outputs": [],
   "source": [
    "fig = uplot.figure('plotly')\n",
    "fig.surface3d(x, y, z, name='data #1', colormap='hsv', opacity=0.5, show_colormap=True)\n",
    "fig.surface3d(x, y, z, name='data #2',  interpolation='linear', show_colormap=True)\n",
    "fig.title('3D Test')\n",
    "fig.xlabel('X Axis')\n",
    "fig.ylabel('Y Axis')\n",
    "fig.zlabel('Z Axis')\n",
    "fig.legend()\n",
    "fig.show()"
   ]
  },
  {
   "cell_type": "markdown",
   "id": "e6b38c4a-18b5-4af7-accb-0e267c06e3e2",
   "metadata": {},
   "source": [
    "## legend"
   ]
  },
  {
   "cell_type": "code",
   "execution_count": null,
   "id": "a96e9526-a570-49ea-8546-5f6df11a069c",
   "metadata": {},
   "outputs": [],
   "source": [
    "x = np.arange(8)\n",
    "y = np.arange(8)"
   ]
  },
  {
   "cell_type": "code",
   "execution_count": null,
   "id": "9a8e3ffa-0950-4719-b006-3fa0ba37609e",
   "metadata": {},
   "outputs": [],
   "source": [
    "fig = uplot.figure('plotly')\n",
    "fig.scatter(x, y, marker_style='.', marker_size=1, name='data #1', legend_group='Small')\n",
    "fig.scatter(x, y+1, marker_style='s', marker_size=6, name='data #2', legend_group='Small')\n",
    "fig.scatter(x, y-1, marker_style='v', marker_size=10, name='data #3', legend_group='Small')\n",
    "fig.scatter(x, y+3, marker_style='x', marker_size=25, name='data #4', legend_group='Big')\n",
    "fig.plot(x, y-3, marker_style='o', marker_size=25, name='data #5', legend_group='Big')\n",
    "fig.legend(True, equal_marker_size=True)\n",
    "fig.show()"
   ]
  },
  {
   "cell_type": "markdown",
   "id": "d340cb7a-1033-494a-a8f9-d8ef658b46f7",
   "metadata": {},
   "source": [
    "## plugin"
   ]
  },
  {
   "cell_type": "code",
   "execution_count": null,
   "id": "80846ae5-31bd-4a36-93e5-e217a69feedb",
   "metadata": {},
   "outputs": [],
   "source": [
    "import pandas as pd\n",
    "import uplot.plugin as plugin\n",
    "\n",
    "\n",
    "class DataFramePlugin(plugin.IPlotPlugin):\n",
    "    \"\"\"\n",
    "    DataFrame minimalistic plugin (only data extraction)\n",
    "    \"\"\"\n",
    "\n",
    "    def extract_data(self, obj: pd.DataFrame) -> list[plugin.PlotData]:\n",
    "        data = []\n",
    "        for name in obj.columns:\n",
    "            if not np.issubdtype(obj.dtypes[name], np.number): continue\n",
    "            y = obj[name].values\n",
    "            x = np.arange(len(y))\n",
    "            name = name.replace('_', ' ').title()\n",
    "            data.append(plugin.PlotData(x=x, y=y, name=name))\n",
    "        return data\n",
    "\n",
    "\n",
    "# register plugin\n",
    "plugin.register(pd.DataFrame, handler=DataFramePlugin())"
   ]
  },
  {
   "cell_type": "code",
   "execution_count": null,
   "id": "e12489d7-c3b4-47be-b9db-a96002a87f2f",
   "metadata": {},
   "outputs": [],
   "source": [
    "car_crashes = pd.read_csv(\n",
    "    'https://raw.githubusercontent.com/mwaskom/seaborn-data/master/car_crashes.csv'\n",
    ")\n",
    "\n",
    "fig = uplot.figure()\n",
    "fig.plot(car_crashes[['total', 'speeding', 'alcohol', 'no_previous']])\n",
    "fig.show()"
   ]
  }
 ],
 "metadata": {
  "kernelspec": {
   "display_name": "Python 3 (ipykernel)",
   "language": "python",
   "name": "python3"
  },
  "language_info": {
   "codemirror_mode": {
    "name": "ipython",
    "version": 3
   },
   "file_extension": ".py",
   "mimetype": "text/x-python",
   "name": "python",
   "nbconvert_exporter": "python",
   "pygments_lexer": "ipython3",
   "version": "3.10.12"
  }
 },
 "nbformat": 4,
 "nbformat_minor": 5
}
