{
 "cells": [
  {
   "cell_type": "markdown",
   "id": "888e1bed-d641-4648-8358-4601857af291",
   "metadata": {},
   "source": [
    "# Gallery"
   ]
  },
  {
   "cell_type": "code",
   "execution_count": null,
   "id": "a224de36-9804-4083-b032-e9990eb536f2",
   "metadata": {},
   "outputs": [],
   "source": [
    "import sys\n",
    "import numpy as np\n",
    "\n",
    "sys.path.append('..')"
   ]
  },
  {
   "cell_type": "code",
   "execution_count": null,
   "id": "3e8aa39f-6101-4941-a929-b48e0668c9c2",
   "metadata": {},
   "outputs": [],
   "source": [
    "import uplot"
   ]
  },
  {
   "cell_type": "markdown",
   "id": "71222d3a-9d51-4a67-934f-6f5033b2c33e",
   "metadata": {},
   "source": [
    "## plot"
   ]
  },
  {
   "cell_type": "code",
   "execution_count": null,
   "id": "b67d9226-9357-411f-8352-b8f862670679",
   "metadata": {},
   "outputs": [],
   "source": [
    "engine = 'mpl'"
   ]
  },
  {
   "cell_type": "markdown",
   "id": "f1546972-c116-42c7-9908-3b9a10ca2491",
   "metadata": {},
   "source": [
    "### data"
   ]
  },
  {
   "cell_type": "code",
   "execution_count": null,
   "id": "e972a879-8f92-4909-8684-b4c11da95fe7",
   "metadata": {},
   "outputs": [],
   "source": [
    "x = np.linspace(0, np.pi*4, num=100)\n",
    "y1 = np.sin(x)\n",
    "y2 = np.sin(x - np.pi/4)\n",
    "y3 = np.sin(x - 2*np.pi/4)\n",
    "y4 = np.sin(x - 3*np.pi/4)"
   ]
  },
  {
   "cell_type": "markdown",
   "id": "148431ac-5534-4470-83d0-724587afb2a2",
   "metadata": {},
   "source": [
    "### 2d plot"
   ]
  },
  {
   "cell_type": "code",
   "execution_count": null,
   "id": "defe4c20-8742-4c87-8657-37fab5930e77",
   "metadata": {},
   "outputs": [],
   "source": [
    "fig = uplot.figure(engine)\n",
    "fig.plot(x, y1, name='data #1')\n",
    "fig.plot(x, y2, name='data #2')\n",
    "fig.plot(x, y3, name='data #3')\n",
    "fig.plot(x, y4, name='data #4')\n",
    "fig.legend()\n",
    "fig.show()"
   ]
  },
  {
   "cell_type": "markdown",
   "id": "848a2eaf-9b4a-43f9-9c00-8d4bd1db7d45",
   "metadata": {},
   "source": [
    "### 3d plot"
   ]
  },
  {
   "cell_type": "code",
   "execution_count": null,
   "id": "2abc37ea-a517-4ac6-8b12-539b357d36b5",
   "metadata": {},
   "outputs": [],
   "source": [
    "fig = uplot.figure(engine, width=800)\n",
    "fig.plot(x=y1, y=y2, z=x, name='data #1')\n",
    "fig.plot(x=y1, y=y2, z=x+2, name='data #2')\n",
    "fig.plot(x=y1, y=y2, z=x+4, name='data #1')\n",
    "fig.legend()\n",
    "fig.show()"
   ]
  },
  {
   "cell_type": "markdown",
   "id": "4afcbbaa-dbe9-4b25-9f26-3514eaf5ce92",
   "metadata": {},
   "source": [
    "## scatter"
   ]
  },
  {
   "cell_type": "code",
   "execution_count": null,
   "id": "3e2c1123-92a8-4aaf-a7f6-cf5893a98f70",
   "metadata": {},
   "outputs": [],
   "source": [
    "engine = 'mpl'"
   ]
  },
  {
   "cell_type": "markdown",
   "id": "196ed58f-7e17-4767-b34a-978654ea7c17",
   "metadata": {},
   "source": [
    "### data"
   ]
  },
  {
   "cell_type": "code",
   "execution_count": null,
   "id": "612cebe7-39fd-4f54-bf94-20c52b876097",
   "metadata": {},
   "outputs": [],
   "source": [
    "x = np.random.uniform(size=100)\n",
    "y = np.random.uniform(size=100)"
   ]
  },
  {
   "cell_type": "markdown",
   "id": "f803124d-8a81-4239-b3c3-16ac30ab9bab",
   "metadata": {},
   "source": [
    "### 2d scatter"
   ]
  },
  {
   "cell_type": "code",
   "execution_count": null,
   "id": "9dd4b9d3-ab48-4d95-ae21-c69f57faa292",
   "metadata": {},
   "outputs": [],
   "source": [
    "fig = uplot.figure(engine)\n",
    "fig.scatter(x, y)\n",
    "fig.show()"
   ]
  },
  {
   "cell_type": "markdown",
   "id": "587a51ad-80fa-4fd1-b296-e5235fd8d932",
   "metadata": {},
   "source": [
    "### 2d scatter - color per point"
   ]
  },
  {
   "cell_type": "code",
   "execution_count": null,
   "id": "993c93b2-ebf5-4b3b-8bf5-fbfe1c9552f7",
   "metadata": {},
   "outputs": [],
   "source": [
    "# random color per point\n",
    "rgb_colors = np.random.uniform(low=0.3, high=0.8, size=[100, 3])"
   ]
  },
  {
   "cell_type": "code",
   "execution_count": null,
   "id": "48f020d0-ef07-4c4a-9a29-77c16aa785df",
   "metadata": {},
   "outputs": [],
   "source": [
    "fig = uplot.figure(engine)\n",
    "fig.scatter(x, y, color=uplot.color.rgb_to_str(rgb_colors))\n",
    "fig.show()"
   ]
  },
  {
   "cell_type": "markdown",
   "id": "64afb01a-8aff-490a-995d-db318bff2a18",
   "metadata": {},
   "source": [
    "### 3d scatter - color per point"
   ]
  },
  {
   "cell_type": "code",
   "execution_count": null,
   "id": "830c8715-f609-44b4-8e8b-aac033261671",
   "metadata": {},
   "outputs": [],
   "source": [
    "fig = uplot.figure(engine)\n",
    "fig.scatter(x, y, y, color=uplot.color.rgb_to_str(rgb_colors))\n",
    "fig.show()"
   ]
  }
 ],
 "metadata": {
  "kernelspec": {
   "display_name": "Python 3 (ipykernel)",
   "language": "python",
   "name": "python3"
  },
  "language_info": {
   "codemirror_mode": {
    "name": "ipython",
    "version": 3
   },
   "file_extension": ".py",
   "mimetype": "text/x-python",
   "name": "python",
   "nbconvert_exporter": "python",
   "pygments_lexer": "ipython3",
   "version": "3.10.12"
  }
 },
 "nbformat": 4,
 "nbformat_minor": 5
}
