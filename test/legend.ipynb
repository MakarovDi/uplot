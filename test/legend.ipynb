{
 "cells": [
  {
   "cell_type": "markdown",
   "id": "47d64c59-c45e-433c-b813-4e821855b050",
   "metadata": {},
   "source": [
    "**Test**: legend visualization"
   ]
  },
  {
   "cell_type": "code",
   "execution_count": null,
   "id": "a7686e3e-82f1-4ecc-9f4e-0efdada37ea0",
   "metadata": {},
   "outputs": [],
   "source": [
    "import sys\n",
    "sys.path.append('..')"
   ]
  },
  {
   "cell_type": "code",
   "execution_count": null,
   "id": "6bd197c2-e5cf-4a29-bf10-d43e35084bcd",
   "metadata": {},
   "outputs": [],
   "source": [
    "import numpy as np"
   ]
  },
  {
   "cell_type": "markdown",
   "id": "7a542b8e-230b-442a-92f3-0cb51e7b8939",
   "metadata": {},
   "source": [
    "# Data"
   ]
  },
  {
   "cell_type": "code",
   "execution_count": null,
   "id": "d4c6f8d6-02e7-4f14-9f5b-6502794ad0d4",
   "metadata": {},
   "outputs": [],
   "source": [
    "x = np.linspace(0, np.pi*4, num=100)\n",
    "y1 = np.sin(x)\n",
    "y2 = np.cos(x)"
   ]
  },
  {
   "cell_type": "markdown",
   "id": "c2f0fb27-16db-4858-aa13-3d31818168f2",
   "metadata": {},
   "source": [
    "# Legend"
   ]
  },
  {
   "cell_type": "code",
   "execution_count": null,
   "id": "0f121789-93b8-427a-b38c-ed31caebfa75",
   "metadata": {},
   "outputs": [],
   "source": [
    "%matplotlib inline"
   ]
  },
  {
   "cell_type": "code",
   "execution_count": null,
   "id": "a8ff1448-eb98-4c39-9843-ea96f81e439f",
   "metadata": {},
   "outputs": [],
   "source": [
    "import uplot"
   ]
  },
  {
   "cell_type": "markdown",
   "id": "f3241046-edcd-40c4-9b0d-a1d59418aa3d",
   "metadata": {},
   "source": [
    "## matplotlib - show"
   ]
  },
  {
   "cell_type": "code",
   "execution_count": null,
   "id": "ab75c9a8-35f0-405b-95a4-882651993ba5",
   "metadata": {},
   "outputs": [],
   "source": [
    "fig = uplot.figure(engine='mpl')\n",
    "fig.legend()\n",
    "fig.plot(x, y1, name='sin(x)')\n",
    "fig.plot(x, y2, name='cos(x)')\n",
    "fig.show()"
   ]
  },
  {
   "cell_type": "code",
   "execution_count": null,
   "id": "e2311688-3302-4532-ab4e-f70d46f5a311",
   "metadata": {},
   "outputs": [],
   "source": [
    "fig = uplot.figure(engine='mpl')\n",
    "fig.plot(x, y1, name='sin(x)')\n",
    "fig.plot(x, y2, name='cos(x)')\n",
    "fig.legend()\n",
    "fig.show()"
   ]
  },
  {
   "cell_type": "markdown",
   "id": "a8548537-a748-414d-b6df-238c54c2ce00",
   "metadata": {},
   "source": [
    "## matplotlib - show & hide"
   ]
  },
  {
   "cell_type": "code",
   "execution_count": null,
   "id": "af7fdd13-d176-4970-b429-de4425a3f4a4",
   "metadata": {},
   "outputs": [],
   "source": [
    "fig = uplot.figure(engine='mpl')\n",
    "fig.plot(x, y1, name='sin(x)')\n",
    "fig.plot(x, y2, name='cos(x)')\n",
    "fig.legend(show=True)\n",
    "fig.legend(show=False)\n",
    "fig.show()"
   ]
  },
  {
   "cell_type": "markdown",
   "id": "fda4c569-0f05-4ae3-a80c-cbf35759155d",
   "metadata": {},
   "source": [
    "## plotly - show"
   ]
  },
  {
   "cell_type": "code",
   "execution_count": null,
   "id": "5646ba4d-e4d0-405c-8029-9d7449b1ce52",
   "metadata": {},
   "outputs": [],
   "source": [
    "fig = uplot.figure(engine='plotly5')\n",
    "fig.legend()\n",
    "fig.plot(x, y1, name='sin(x)')\n",
    "fig.plot(x, y2, name='cos(x)')\n",
    "fig.show()"
   ]
  },
  {
   "cell_type": "markdown",
   "id": "930ff28e-45e2-4aec-b0b8-73b20ea4169e",
   "metadata": {},
   "source": [
    "## plotly - show & hide"
   ]
  },
  {
   "cell_type": "code",
   "execution_count": null,
   "id": "03087d8f-e01d-4e9d-9fdc-12008327e37f",
   "metadata": {},
   "outputs": [],
   "source": [
    "fig = uplot.figure(engine='plotly5')\n",
    "fig.plot(x, y1, name='sin(x)')\n",
    "fig.plot(x, y2, name='cos(x)')\n",
    "fig.legend(show=True)\n",
    "fig.legend(show=False)\n",
    "fig.show()"
   ]
  },
  {
   "cell_type": "markdown",
   "id": "44d1f770-1a1a-44b5-a2ae-de28141b7837",
   "metadata": {},
   "source": [
    "## plotly - long legend entry"
   ]
  },
  {
   "cell_type": "markdown",
   "id": "6a89bd3c-d04a-4488-a547-27cc79e827be",
   "metadata": {},
   "source": [
    "**Test**: shows not truncated (ellipsis) name of a trace when hovering over"
   ]
  },
  {
   "cell_type": "code",
   "execution_count": null,
   "id": "70208cc6-31bf-450b-a31b-abb2d6a39e9c",
   "metadata": {},
   "outputs": [],
   "source": [
    "fig = uplot.figure(engine='plotly5')\n",
    "fig.plot(x, y1, name='Very long name for a simple plot of sin(x)')\n",
    "fig.plot(x, y2, name='cos(x)')\n",
    "fig.legend()\n",
    "fig.show()"
   ]
  },
  {
   "cell_type": "markdown",
   "id": "27494f94-d2bb-4854-b949-d67e4567f0f5",
   "metadata": {},
   "source": [
    "## marker size"
   ]
  },
  {
   "cell_type": "markdown",
   "id": "4fac8072-e5c3-4bd0-9b97-a1a577f67d31",
   "metadata": {},
   "source": [
    "**Test**: fixed size of markers in the legend"
   ]
  },
  {
   "cell_type": "markdown",
   "id": "35327ea2-3ce2-43ce-97c4-9c32415bfc1f",
   "metadata": {},
   "source": [
    "### plotly"
   ]
  },
  {
   "cell_type": "code",
   "execution_count": null,
   "id": "e05e5bbf-d74d-4812-b390-df8ad4483579",
   "metadata": {},
   "outputs": [],
   "source": [
    "x = np.arange(8)\n",
    "y = np.arange(8)"
   ]
  },
  {
   "cell_type": "code",
   "execution_count": null,
   "id": "1ec290b2-6bc0-4f56-bc6f-65d39fdfe3a0",
   "metadata": {},
   "outputs": [],
   "source": [
    "fig = uplot.figure('plotly')\n",
    "fig.scatter(x, y, marker_style='.', marker_size=1, name='data #1')\n",
    "fig.scatter(x, y+1, marker_style='s', marker_size=6, name='data #2')\n",
    "fig.scatter(x, y-1, marker_style='v', marker_size=10, name='data #3')\n",
    "fig.scatter(x, y+3, marker_style='x', marker_size=25, name='data #4')\n",
    "fig.plot(x, y-3, marker_style='o', marker_size=25, name='data #5')\n",
    "fig.legend(True, equal_marker_size=True)\n",
    "fig.show()"
   ]
  },
  {
   "cell_type": "markdown",
   "id": "0e8befc0-0373-4940-afe6-ce23a9960ae6",
   "metadata": {},
   "source": [
    "### matplotlib"
   ]
  },
  {
   "cell_type": "code",
   "execution_count": null,
   "id": "44de36f2-de0c-4b05-b106-e7e247df6c9f",
   "metadata": {},
   "outputs": [],
   "source": [
    "x = np.arange(8)\n",
    "y = np.arange(8)"
   ]
  },
  {
   "cell_type": "code",
   "execution_count": null,
   "id": "bf04fa28-52df-4c0e-a08a-a080d842689b",
   "metadata": {},
   "outputs": [],
   "source": [
    "fig = uplot.figure('mpl')\n",
    "fig.scatter(x, y, marker_style='.', marker_size=1, name='data #1')\n",
    "fig.scatter(x, y+1, marker_style='s', marker_size=6, name='data #2')\n",
    "fig.scatter(x, y-1, marker_style='v', marker_size=10, name='data #3')\n",
    "fig.scatter(x, y+3, marker_style='x', marker_size=25, name='data #4')\n",
    "fig.plot(x, y-3, marker_style='o', marker_size=25, name='data #5')\n",
    "fig.legend(True, equal_marker_size=True)\n",
    "fig.show()"
   ]
  },
  {
   "cell_type": "markdown",
   "id": "3cce7979-d582-4d4e-8b69-556e652cea4e",
   "metadata": {},
   "source": [
    "## legend group"
   ]
  },
  {
   "cell_type": "markdown",
   "id": "59592728-646a-4d41-ac1f-470970cd3136",
   "metadata": {},
   "source": [
    "### mode 1"
   ]
  },
  {
   "cell_type": "code",
   "execution_count": null,
   "id": "57e4ee01-221c-4103-8381-fceb8f82c877",
   "metadata": {},
   "outputs": [],
   "source": [
    "fig = uplot.figure('plotly')\n",
    "fig.scatter(x=[1, 3, 3], y=[2, 7, 2], color='b', marker_style='v', legend_group='Group #1')\n",
    "fig.scatter(x=[1, 2, 3], y=[2, 1, 3], color='b', legend_group='Group #1', name='first legend group')\n",
    "fig.plot(x=[1, 2, 3], y=[2, 2, 2], color='b', legend_group='Group #1', name='first legend group - average')\n",
    "fig.scatter(x=[1, 2, 3], y=[4, 9, 2], color='r', legend_group='Group #2', name='second legend group')\n",
    "fig.plot(x=[1, 2, 3], y=[5, 5, 5], color='r', legend_group='Group #2', name='second legend group - average')\n",
    "fig.legend()\n",
    "fig.show()"
   ]
  },
  {
   "cell_type": "markdown",
   "id": "b0e3f96a-f393-4ead-a5e9-6ae4ed45f5ca",
   "metadata": {},
   "source": [
    "### mode 2"
   ]
  },
  {
   "cell_type": "code",
   "execution_count": null,
   "id": "ac1f372a-f403-41ac-876d-dca7e5dc34fd",
   "metadata": {},
   "outputs": [],
   "source": [
    "fig = uplot.figure('plotly')\n",
    "fig.scatter(x=[1, 3, 3], y=[2, 7, 2], color='b', marker_style='v', legend_group='Group #1')\n",
    "fig.scatter(x=[1, 2, 3], y=[2, 1, 3], color='b', legend_group='Group #1', name='first legend group')\n",
    "fig.plot(x=[1, 2, 3], y=[2, 2, 2], color='b', legend_group='Group #1')\n",
    "fig.scatter(x=[1, 2, 3], y=[4, 9, 2], color='r', legend_group='Group #2', name='second legend group')\n",
    "fig.plot(x=[1, 2, 3], y=[5, 5, 5], color='r', legend_group='Group #2')\n",
    "fig.legend()\n",
    "fig.show()"
   ]
  }
 ],
 "metadata": {
  "kernelspec": {
   "display_name": "Python 3 (ipykernel)",
   "language": "python",
   "name": "python3"
  },
  "language_info": {
   "codemirror_mode": {
    "name": "ipython",
    "version": 3
   },
   "file_extension": ".py",
   "mimetype": "text/x-python",
   "name": "python",
   "nbconvert_exporter": "python",
   "pygments_lexer": "ipython3",
   "version": "3.10.12"
  }
 },
 "nbformat": 4,
 "nbformat_minor": 5
}
