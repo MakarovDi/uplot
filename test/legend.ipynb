{
 "cells": [
  {
   "cell_type": "markdown",
   "id": "47d64c59-c45e-433c-b813-4e821855b050",
   "metadata": {},
   "source": [
    "**Test**: legend visualization"
   ]
  },
  {
   "cell_type": "code",
   "execution_count": null,
   "id": "a7686e3e-82f1-4ecc-9f4e-0efdada37ea0",
   "metadata": {},
   "outputs": [],
   "source": [
    "import sys\n",
    "sys.path.append('..')"
   ]
  },
  {
   "cell_type": "code",
   "execution_count": null,
   "id": "6bd197c2-e5cf-4a29-bf10-d43e35084bcd",
   "metadata": {},
   "outputs": [],
   "source": [
    "import numpy as np"
   ]
  },
  {
   "cell_type": "markdown",
   "id": "7a542b8e-230b-442a-92f3-0cb51e7b8939",
   "metadata": {},
   "source": [
    "# Data"
   ]
  },
  {
   "cell_type": "code",
   "execution_count": null,
   "id": "d4c6f8d6-02e7-4f14-9f5b-6502794ad0d4",
   "metadata": {},
   "outputs": [],
   "source": [
    "x = np.linspace(0, np.pi*4, num=100)\n",
    "y1 = np.sin(x)\n",
    "y2 = np.cos(x)"
   ]
  },
  {
   "cell_type": "markdown",
   "id": "c2f0fb27-16db-4858-aa13-3d31818168f2",
   "metadata": {},
   "source": [
    "# Legend"
   ]
  },
  {
   "cell_type": "code",
   "execution_count": null,
   "id": "0f121789-93b8-427a-b38c-ed31caebfa75",
   "metadata": {},
   "outputs": [],
   "source": [
    "%matplotlib inline"
   ]
  },
  {
   "cell_type": "code",
   "execution_count": null,
   "id": "a8ff1448-eb98-4c39-9843-ea96f81e439f",
   "metadata": {},
   "outputs": [],
   "source": [
    "import uplot"
   ]
  },
  {
   "cell_type": "markdown",
   "id": "f3241046-edcd-40c4-9b0d-a1d59418aa3d",
   "metadata": {},
   "source": [
    "## matplotlib - show"
   ]
  },
  {
   "cell_type": "code",
   "execution_count": null,
   "id": "ab75c9a8-35f0-405b-95a4-882651993ba5",
   "metadata": {},
   "outputs": [],
   "source": [
    "fig = uplot.figure(engine='mpl')\n",
    "fig.legend()\n",
    "fig.plot(x, y1, name='sin(x)')\n",
    "fig.plot(x, y2, name='cos(x)')\n",
    "fig.show()"
   ]
  },
  {
   "cell_type": "code",
   "execution_count": null,
   "id": "e2311688-3302-4532-ab4e-f70d46f5a311",
   "metadata": {},
   "outputs": [],
   "source": [
    "fig = uplot.figure(engine='mpl')\n",
    "fig.plot(x, y1, name='sin(x)')\n",
    "fig.plot(x, y2, name='cos(x)')\n",
    "fig.legend()\n",
    "fig.show()"
   ]
  },
  {
   "cell_type": "markdown",
   "id": "a8548537-a748-414d-b6df-238c54c2ce00",
   "metadata": {},
   "source": [
    "## matplotlib - show & hide"
   ]
  },
  {
   "cell_type": "code",
   "execution_count": null,
   "id": "af7fdd13-d176-4970-b429-de4425a3f4a4",
   "metadata": {},
   "outputs": [],
   "source": [
    "fig = uplot.figure(engine='mpl')\n",
    "fig.plot(x, y1, name='sin(x)')\n",
    "fig.plot(x, y2, name='cos(x)')\n",
    "fig.legend(show=True)\n",
    "fig.legend(show=False)\n",
    "fig.show()"
   ]
  },
  {
   "cell_type": "markdown",
   "id": "fda4c569-0f05-4ae3-a80c-cbf35759155d",
   "metadata": {},
   "source": [
    "## plotly - show"
   ]
  },
  {
   "cell_type": "code",
   "execution_count": null,
   "id": "5646ba4d-e4d0-405c-8029-9d7449b1ce52",
   "metadata": {},
   "outputs": [],
   "source": [
    "fig = uplot.figure(engine='plotly5')\n",
    "fig.legend()\n",
    "fig.plot(x, y1, name='sin(x)')\n",
    "fig.plot(x, y2, name='cos(x)')\n",
    "fig.show()"
   ]
  },
  {
   "cell_type": "markdown",
   "id": "930ff28e-45e2-4aec-b0b8-73b20ea4169e",
   "metadata": {},
   "source": [
    "## plotly - show & hide"
   ]
  },
  {
   "cell_type": "code",
   "execution_count": null,
   "id": "03087d8f-e01d-4e9d-9fdc-12008327e37f",
   "metadata": {},
   "outputs": [],
   "source": [
    "fig = uplot.figure(engine='plotly5')\n",
    "fig.plot(x, y1, name='sin(x)')\n",
    "fig.plot(x, y2, name='cos(x)')\n",
    "fig.legend(show=True)\n",
    "fig.legend(show=False)\n",
    "fig.show()"
   ]
  },
  {
   "cell_type": "markdown",
   "id": "7b40266b-047d-4677-9a94-3dfcc456f99a",
   "metadata": {},
   "source": [
    "## engine specific - kwargs"
   ]
  },
  {
   "cell_type": "code",
   "execution_count": null,
   "id": "c03fb757-c6f8-454a-88a1-1fd21b6a2b63",
   "metadata": {},
   "outputs": [],
   "source": [
    "fig = uplot.figure(engine='plotly5')\n",
    "fig.legend(yanchor=\"top\", y=0.99, xanchor=\"left\", x=0.01)\n",
    "fig.plot(x, y1, name='sin(x)')\n",
    "fig.plot(x, y2, name='cos(x)')\n",
    "fig.show()"
   ]
  },
  {
   "cell_type": "code",
   "execution_count": null,
   "id": "52a4f7a4-632d-4155-ae7e-4e8758ff760b",
   "metadata": {},
   "outputs": [],
   "source": [
    "fig = uplot.figure(engine='mpl')\n",
    "fig.plot(x, y1, name='sin(x)')\n",
    "fig.plot(x, y2, name='cos(x)')\n",
    "fig.legend(loc='upper left')\n",
    "fig.show()"
   ]
  },
  {
   "cell_type": "markdown",
   "id": "44d1f770-1a1a-44b5-a2ae-de28141b7837",
   "metadata": {},
   "source": [
    "## long legend entry"
   ]
  },
  {
   "cell_type": "markdown",
   "id": "6a89bd3c-d04a-4488-a547-27cc79e827be",
   "metadata": {},
   "source": [
    "**Test**: shows truncated (ellipsis) name of a trace when hovering over"
   ]
  },
  {
   "cell_type": "code",
   "execution_count": null,
   "id": "70208cc6-31bf-450b-a31b-abb2d6a39e9c",
   "metadata": {},
   "outputs": [],
   "source": [
    "fig = uplot.figure(engine='plotly5')\n",
    "fig.legend(yanchor=\"top\", y=0.99, xanchor=\"left\", x=0.01)\n",
    "fig.plot(x, y1, name='Very long name for a simple plot of sin(x)')\n",
    "fig.plot(x, y2, name='cos(x)')\n",
    "fig.show()"
   ]
  }
 ],
 "metadata": {
  "kernelspec": {
   "display_name": "Python 3 (ipykernel)",
   "language": "python",
   "name": "python3"
  },
  "language_info": {
   "codemirror_mode": {
    "name": "ipython",
    "version": 3
   },
   "file_extension": ".py",
   "mimetype": "text/x-python",
   "name": "python",
   "nbconvert_exporter": "python",
   "pygments_lexer": "ipython3",
   "version": "3.10.12"
  }
 },
 "nbformat": 4,
 "nbformat_minor": 5
}
