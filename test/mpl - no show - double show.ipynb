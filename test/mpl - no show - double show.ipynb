{
 "cells": [
  {
   "cell_type": "markdown",
   "id": "b8131bb4-45c8-4e60-a59d-e3e09796cc45",
   "metadata": {},
   "source": [
    "**Test**: fig.show() behaviour."
   ]
  },
  {
   "cell_type": "markdown",
   "id": "e9c0c619-cb1b-4ba6-b86e-c92117de3127",
   "metadata": {},
   "source": [
    "It's really hard to get consistent `matplotlib` behaviour in Jupyter.  \n",
    "For some versions a figure will shown twice for others it will not shown at all.    \n",
    "The `%matplotlib` placement is also change behaviour..."
   ]
  },
  {
   "cell_type": "code",
   "execution_count": null,
   "id": "9ef9c051-8095-4455-b320-d82287e4d4bc",
   "metadata": {},
   "outputs": [],
   "source": [
    "import sys\n",
    "sys.path.append('..')"
   ]
  },
  {
   "cell_type": "code",
   "execution_count": null,
   "id": "40fb4b37-8db9-468b-9189-8a84f6364d62",
   "metadata": {},
   "outputs": [],
   "source": [
    "import numpy as np"
   ]
  },
  {
   "cell_type": "markdown",
   "id": "2d89024d-ac2d-4a64-b2e0-47d2b96baec1",
   "metadata": {},
   "source": [
    "There are two way to provide consistent behaviour for showing figures:  \n",
    "- use `%matplotlib inline` at the notebook start.\n",
    "- always call plt.show()."
   ]
  },
  {
   "cell_type": "code",
   "execution_count": null,
   "id": "e403c270-d264-4faf-9424-0bf993f0cc97",
   "metadata": {},
   "outputs": [],
   "source": [
    "# %matplotlib inline\n",
    "# %matplotlib ipympl"
   ]
  },
  {
   "cell_type": "markdown",
   "id": "7b53950c-bdb9-4f34-baef-103ef076aafa",
   "metadata": {},
   "source": [
    "The other point for `%matplotlib inline` is predictable work of `plt.ioff()/plt.ion()`"
   ]
  },
  {
   "cell_type": "markdown",
   "id": "cc193978-42bb-453c-a6c5-83830bbc5a1c",
   "metadata": {},
   "source": [
    "# Data"
   ]
  },
  {
   "cell_type": "code",
   "execution_count": null,
   "id": "b733b0a5-8f84-4968-9651-91a8c74617f7",
   "metadata": {},
   "outputs": [],
   "source": [
    "x = np.linspace(0, np.pi*4, num=100)\n",
    "y1 = np.sin(x)\n",
    "y2 = np.cos(x)"
   ]
  },
  {
   "cell_type": "markdown",
   "id": "c6689508-dcbc-4dea-8621-80ad762e8246",
   "metadata": {},
   "source": [
    "# uplot"
   ]
  },
  {
   "cell_type": "code",
   "execution_count": null,
   "id": "4e1890b2-3dba-4012-9a33-268db1d24ead",
   "metadata": {},
   "outputs": [],
   "source": [
    "import uplot"
   ]
  },
  {
   "cell_type": "code",
   "execution_count": null,
   "id": "bddf5859-7f2d-4641-b2f3-0894bdbb30c7",
   "metadata": {},
   "outputs": [],
   "source": [
    "fig = uplot.figure(engine='mpl')\n",
    "fig.plot(x, y1, name='sin(x)')\n",
    "fig.plot(x, y2, name='cos(x)')\n",
    "fig.show()"
   ]
  },
  {
   "cell_type": "code",
   "execution_count": null,
   "id": "c5d6bc91-110d-4a19-83fa-79047e51bcac",
   "metadata": {},
   "outputs": [],
   "source": [
    "fig = uplot.figure(engine='mpl')\n",
    "fig.plot(x, y1, name='sin(x)')\n",
    "fig.plot(x, y2, name='cos(x)')\n",
    "fig.show()"
   ]
  },
  {
   "cell_type": "markdown",
   "id": "ff1cea82-c424-49ce-baf6-2d2d19a0f4aa",
   "metadata": {},
   "source": [
    "# matplotlib"
   ]
  },
  {
   "cell_type": "code",
   "execution_count": null,
   "id": "d89c2069-8a6f-457f-997a-b0beeae5842c",
   "metadata": {},
   "outputs": [],
   "source": [
    "from matplotlib import pyplot as plt"
   ]
  },
  {
   "cell_type": "code",
   "execution_count": null,
   "id": "5d489151-ef11-45c8-b761-9dc3d9f38549",
   "metadata": {},
   "outputs": [],
   "source": [
    "fig = plt.figure()\n",
    "fig.gca().plot(x, y1, label='sin(x)')\n",
    "fig.gca().plot(x, y2, label='cos(x)')\n",
    "plt.show()"
   ]
  },
  {
   "cell_type": "code",
   "execution_count": null,
   "id": "728e68d5-3055-43cf-ae3f-3ee6bc2a5463",
   "metadata": {},
   "outputs": [],
   "source": [
    "fig = plt.figure()\n",
    "fig.gca().plot(x, y1, label='sin(x)')\n",
    "fig.gca().plot(x, y2, label='cos(x)')\n",
    "plt.show()"
   ]
  }
 ],
 "metadata": {
  "kernelspec": {
   "display_name": "Python 3 (ipykernel)",
   "language": "python",
   "name": "python3"
  },
  "language_info": {
   "codemirror_mode": {
    "name": "ipython",
    "version": 3
   },
   "file_extension": ".py",
   "mimetype": "text/x-python",
   "name": "python",
   "nbconvert_exporter": "python",
   "pygments_lexer": "ipython3",
   "version": "3.10.12"
  }
 },
 "nbformat": 4,
 "nbformat_minor": 5
}
