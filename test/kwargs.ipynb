{
 "cells": [
  {
   "cell_type": "markdown",
   "id": "c72748dd-81ae-49ac-a21a-a423a43fde9c",
   "metadata": {},
   "source": [
    "**Test**: kwargs is a way to pass params to underlying engine (engine-dependent params)"
   ]
  },
  {
   "cell_type": "code",
   "execution_count": null,
   "id": "0fbef179-446e-4483-8e5c-f9b2e802f7d1",
   "metadata": {},
   "outputs": [],
   "source": [
    "import sys\n",
    "sys.path.append('..')"
   ]
  },
  {
   "cell_type": "code",
   "execution_count": null,
   "id": "42acfa08-e2f9-44f8-ae42-409c97573f36",
   "metadata": {},
   "outputs": [],
   "source": [
    "import numpy as np"
   ]
  },
  {
   "cell_type": "markdown",
   "id": "e6f13da9-64bb-45f0-874f-f33bd9218b3c",
   "metadata": {},
   "source": [
    "# Data"
   ]
  },
  {
   "cell_type": "code",
   "execution_count": null,
   "id": "7e2b7a71-e243-4ae5-9162-aa22822da203",
   "metadata": {},
   "outputs": [],
   "source": [
    "from PIL import Image\n",
    "from urllib.request import urlopen"
   ]
  },
  {
   "cell_type": "code",
   "execution_count": null,
   "id": "09fbfeda-e6e7-44e4-a7e1-e9dbe443bf39",
   "metadata": {},
   "outputs": [],
   "source": [
    "# load test image\n",
    "image_url = 'https://upload.wikimedia.org/wikipedia/en/thumb/7/7d/Lenna_%28test_image%29.png/440px-Lenna_%28test_image%29.png'\n",
    "image = Image.open(urlopen(image_url))\n",
    "image = np.array(image)"
   ]
  },
  {
   "cell_type": "code",
   "execution_count": null,
   "id": "8cf387e4-1e06-4597-ad82-48a0d6953f16",
   "metadata": {},
   "outputs": [],
   "source": [
    "x = np.linspace(0, np.pi*4, num=100)\n",
    "y1 = np.sin(x)\n",
    "y2 = np.cos(x)"
   ]
  },
  {
   "cell_type": "markdown",
   "id": "22516176-58dc-432d-a129-58f07daf4c00",
   "metadata": {},
   "source": [
    "# kwargs"
   ]
  },
  {
   "cell_type": "code",
   "execution_count": null,
   "id": "15be8611-5187-4354-8e85-205efd58e6f9",
   "metadata": {},
   "outputs": [],
   "source": [
    "%matplotlib inline"
   ]
  },
  {
   "cell_type": "code",
   "execution_count": null,
   "id": "3718a99e-d9c0-4b9d-9ca3-9ce262c9825d",
   "metadata": {},
   "outputs": [],
   "source": [
    "import uplot"
   ]
  },
  {
   "cell_type": "markdown",
   "id": "63594f95-bbf1-4293-bd86-a176af935fc2",
   "metadata": {},
   "source": [
    "## imshow"
   ]
  },
  {
   "cell_type": "markdown",
   "id": "54d2b230-e3eb-4f8e-b819-02ea165520d0",
   "metadata": {},
   "source": [
    "### matplotlib"
   ]
  },
  {
   "cell_type": "code",
   "execution_count": null,
   "id": "ee57c729-e367-4561-aabe-38cec8f624b8",
   "metadata": {},
   "outputs": [],
   "source": [
    "fig = uplot.figure(engine='mpl')\n",
    "fig.imshow(image, interpolation='antialiased')\n",
    "fig.show()"
   ]
  },
  {
   "cell_type": "markdown",
   "id": "fd5e4c3a-dda5-48c4-a0c5-60b5962013f8",
   "metadata": {},
   "source": [
    "### plotly"
   ]
  },
  {
   "cell_type": "code",
   "execution_count": null,
   "id": "b15283b6-18b8-400c-84a9-d9943eb0cf64",
   "metadata": {},
   "outputs": [],
   "source": [
    "fig = uplot.figure(engine='plotly5')\n",
    "fig.imshow(image, opacity=0.4)\n",
    "fig.show()"
   ]
  },
  {
   "cell_type": "markdown",
   "id": "efbf9829-9c81-4bf0-8357-4f5085f9e3ce",
   "metadata": {},
   "source": [
    "## legend"
   ]
  },
  {
   "cell_type": "markdown",
   "id": "164c2e39-3f06-434c-820a-00f47365b04b",
   "metadata": {},
   "source": [
    "### matplotlib"
   ]
  },
  {
   "cell_type": "code",
   "execution_count": null,
   "id": "fa0e29e2-1d0a-4a9a-935d-72924c18742f",
   "metadata": {},
   "outputs": [],
   "source": [
    "fig = uplot.figure(engine='mpl')\n",
    "fig.plot(x, y1, name='sin(x)')\n",
    "fig.plot(x, y2, name='cos(x)')\n",
    "fig.legend(loc='upper left')\n",
    "fig.show()"
   ]
  },
  {
   "cell_type": "markdown",
   "id": "db874c09-6f67-4dbe-b2fe-23480d820cde",
   "metadata": {},
   "source": [
    "### plotly"
   ]
  },
  {
   "cell_type": "code",
   "execution_count": null,
   "id": "8dfaf270-3978-47ed-a36f-e30742ccc1cf",
   "metadata": {},
   "outputs": [],
   "source": [
    "fig = uplot.figure(engine='plotly5')\n",
    "fig.legend(yanchor=\"top\", y=0.99, xanchor=\"left\", x=0.01)\n",
    "fig.plot(x, y1, name='sin(x)')\n",
    "fig.plot(x, y2, name='cos(x)')\n",
    "fig.show()"
   ]
  },
  {
   "cell_type": "markdown",
   "id": "4aef2e00-d115-45a1-b4b0-19a601ac7706",
   "metadata": {},
   "source": [
    "## plot"
   ]
  },
  {
   "cell_type": "markdown",
   "id": "629fb6d4-9b9c-461f-b22d-535e4c4ac04d",
   "metadata": {},
   "source": [
    "### matplotlib"
   ]
  },
  {
   "cell_type": "code",
   "execution_count": null,
   "id": "d9c4e03b-a7ff-4bf6-a772-f483a81b1774",
   "metadata": {},
   "outputs": [],
   "source": [
    "fig = uplot.figure(engine='mpl')\n",
    "fig.plot(x, y1, name='sin(x)', linewidth=6)\n",
    "fig.legend()\n",
    "fig.show()"
   ]
  },
  {
   "cell_type": "markdown",
   "id": "921bd1c4-6020-41bd-a667-2aaae803f386",
   "metadata": {},
   "source": [
    "### plotly"
   ]
  },
  {
   "cell_type": "code",
   "execution_count": null,
   "id": "2b796776-acf0-44e9-8ac3-a89e6307fb54",
   "metadata": {},
   "outputs": [],
   "source": [
    "fig = uplot.figure(engine='plotly5')\n",
    "fig.plot(x, y1, name='sin(x)', line=dict(width=6))\n",
    "fig.legend()\n",
    "fig.show()"
   ]
  },
  {
   "cell_type": "markdown",
   "id": "e3b9acfc-7623-4b03-94a7-e8a43c7b111c",
   "metadata": {},
   "source": [
    "## scatter"
   ]
  },
  {
   "cell_type": "markdown",
   "id": "1f932504-7d47-4165-bc45-7c701b589cb8",
   "metadata": {},
   "source": [
    "### matplotlib"
   ]
  },
  {
   "cell_type": "code",
   "execution_count": null,
   "id": "430ea1b7-69a4-42fa-a712-50b454d8aa6f",
   "metadata": {},
   "outputs": [],
   "source": [
    "fig = uplot.figure(engine='mpl')\n",
    "fig.scatter(x, y1, name='sin(x)', edgecolors='k')\n",
    "fig.legend()\n",
    "fig.show()"
   ]
  },
  {
   "cell_type": "markdown",
   "id": "2588d3ba-f4b3-4f7c-9786-57741dce1c01",
   "metadata": {},
   "source": [
    "### plotly"
   ]
  },
  {
   "cell_type": "code",
   "execution_count": null,
   "id": "1a98cfa7-d17c-4b84-a191-f2004fa00665",
   "metadata": {},
   "outputs": [],
   "source": [
    "fig = uplot.figure(engine='plotly5')\n",
    "fig.scatter(x, y1, name='sin(x)', marker_style='v', marker=dict(angle=45))\n",
    "fig.legend()\n",
    "fig.show()"
   ]
  }
 ],
 "metadata": {
  "kernelspec": {
   "display_name": "Python 3 (ipykernel)",
   "language": "python",
   "name": "python3"
  },
  "language_info": {
   "codemirror_mode": {
    "name": "ipython",
    "version": 3
   },
   "file_extension": ".py",
   "mimetype": "text/x-python",
   "name": "python",
   "nbconvert_exporter": "python",
   "pygments_lexer": "ipython3",
   "version": "3.10.12"
  }
 },
 "nbformat": 4,
 "nbformat_minor": 5
}
