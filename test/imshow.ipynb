{
 "cells": [
  {
   "cell_type": "markdown",
   "id": "47d64c59-c45e-433c-b813-4e821855b050",
   "metadata": {},
   "source": [
    "**Test**: image (numpy array) visualization"
   ]
  },
  {
   "cell_type": "code",
   "execution_count": null,
   "id": "a7686e3e-82f1-4ecc-9f4e-0efdada37ea0",
   "metadata": {},
   "outputs": [],
   "source": [
    "import sys\n",
    "sys.path.append('..')"
   ]
  },
  {
   "cell_type": "code",
   "execution_count": null,
   "id": "6bd197c2-e5cf-4a29-bf10-d43e35084bcd",
   "metadata": {},
   "outputs": [],
   "source": [
    "import numpy as np"
   ]
  },
  {
   "cell_type": "markdown",
   "id": "7a542b8e-230b-442a-92f3-0cb51e7b8939",
   "metadata": {},
   "source": [
    "# Data"
   ]
  },
  {
   "cell_type": "code",
   "execution_count": null,
   "id": "d546b4a5-1da8-4163-8b92-032b37c92b44",
   "metadata": {},
   "outputs": [],
   "source": [
    "from PIL import Image\n",
    "from urllib.request import urlopen"
   ]
  },
  {
   "cell_type": "code",
   "execution_count": null,
   "id": "d4c6f8d6-02e7-4f14-9f5b-6502794ad0d4",
   "metadata": {},
   "outputs": [],
   "source": [
    "# load test image\n",
    "image_url = 'https://upload.wikimedia.org/wikipedia/en/thumb/7/7d/Lenna_%28test_image%29.png/440px-Lenna_%28test_image%29.png'\n",
    "image = Image.open(urlopen(image_url))"
   ]
  },
  {
   "cell_type": "code",
   "execution_count": null,
   "id": "902754a6-f01f-4101-9940-4d5b73243f6e",
   "metadata": {},
   "outputs": [],
   "source": [
    "image = np.array(image)"
   ]
  },
  {
   "cell_type": "markdown",
   "id": "c2f0fb27-16db-4858-aa13-3d31818168f2",
   "metadata": {},
   "source": [
    "# imshow"
   ]
  },
  {
   "cell_type": "code",
   "execution_count": null,
   "id": "0f121789-93b8-427a-b38c-ed31caebfa75",
   "metadata": {},
   "outputs": [],
   "source": [
    "%matplotlib inline"
   ]
  },
  {
   "cell_type": "code",
   "execution_count": null,
   "id": "a8ff1448-eb98-4c39-9843-ea96f81e439f",
   "metadata": {},
   "outputs": [],
   "source": [
    "import uplot"
   ]
  },
  {
   "cell_type": "markdown",
   "id": "f3241046-edcd-40c4-9b0d-a1d59418aa3d",
   "metadata": {},
   "source": [
    "## matplotlib"
   ]
  },
  {
   "cell_type": "code",
   "execution_count": null,
   "id": "ab75c9a8-35f0-405b-95a4-882651993ba5",
   "metadata": {},
   "outputs": [],
   "source": [
    "fig = uplot.figure(engine='mpl')\n",
    "fig.imshow(image, interpolation='antialiased')\n",
    "fig.show()"
   ]
  },
  {
   "cell_type": "markdown",
   "id": "fda4c569-0f05-4ae3-a80c-cbf35759155d",
   "metadata": {},
   "source": [
    "## plotly"
   ]
  },
  {
   "cell_type": "code",
   "execution_count": null,
   "id": "5646ba4d-e4d0-405c-8029-9d7449b1ce52",
   "metadata": {},
   "outputs": [],
   "source": [
    "fig = uplot.figure(engine='plotly5')\n",
    "fig.imshow(image)\n",
    "fig.show()"
   ]
  }
 ],
 "metadata": {
  "kernelspec": {
   "display_name": "Python 3 (ipykernel)",
   "language": "python",
   "name": "python3"
  },
  "language_info": {
   "codemirror_mode": {
    "name": "ipython",
    "version": 3
   },
   "file_extension": ".py",
   "mimetype": "text/x-python",
   "name": "python",
   "nbconvert_exporter": "python",
   "pygments_lexer": "ipython3",
   "version": "3.10.12"
  }
 },
 "nbformat": 4,
 "nbformat_minor": 5
}
