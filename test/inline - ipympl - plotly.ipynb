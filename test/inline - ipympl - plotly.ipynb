{
 "cells": [
  {
   "cell_type": "markdown",
   "id": "73264d52-71c6-472b-af97-0b4eab508f97",
   "metadata": {},
   "source": [
    "**Test**: style consistency across different backends."
   ]
  },
  {
   "cell_type": "code",
   "execution_count": null,
   "id": "cd9fbee5-dc48-44f9-b90d-9db7d706ffe5",
   "metadata": {},
   "outputs": [],
   "source": [
    "import sys\n",
    "sys.path.append('..')"
   ]
  },
  {
   "cell_type": "code",
   "execution_count": null,
   "id": "62914d09-90b8-4cc9-a3d7-3f81b462a51c",
   "metadata": {},
   "outputs": [],
   "source": [
    "import numpy as np"
   ]
  },
  {
   "cell_type": "markdown",
   "id": "f2c6d85d-0c6b-480e-86d7-30b06b71f9c3",
   "metadata": {},
   "source": [
    "# Data"
   ]
  },
  {
   "cell_type": "code",
   "execution_count": null,
   "id": "938741c8-d862-4f25-a24c-3a06938ea72e",
   "metadata": {},
   "outputs": [],
   "source": [
    "d1 = [4, 5, 6]"
   ]
  },
  {
   "cell_type": "code",
   "execution_count": null,
   "id": "71957d76-97b2-481d-ad45-c9d56a79acd7",
   "metadata": {},
   "outputs": [],
   "source": [
    "d2 = np.array([[1, 2, 3],\n",
    "               [3, 2, 1]]).T"
   ]
  },
  {
   "cell_type": "markdown",
   "id": "9873cb74-af7d-4455-a8ee-74cc8e15db0d",
   "metadata": {},
   "source": [
    "# Matplotlib"
   ]
  },
  {
   "cell_type": "code",
   "execution_count": null,
   "id": "aecdf4c2-5cd8-4577-8cb4-75a6a7f583b1",
   "metadata": {},
   "outputs": [],
   "source": [
    "import matplotlib\n",
    "from matplotlib import pyplot as plt"
   ]
  },
  {
   "cell_type": "code",
   "execution_count": null,
   "id": "6cf67bfe-0da4-4d93-9b5f-2dacbb2f7c12",
   "metadata": {},
   "outputs": [],
   "source": [
    "# automatic backend\n",
    "matplotlib.get_backend()"
   ]
  },
  {
   "cell_type": "markdown",
   "id": "d92e92cc-33bb-4da1-8170-1250cfe84548",
   "metadata": {},
   "source": [
    "## inline - matplotlib"
   ]
  },
  {
   "cell_type": "code",
   "execution_count": null,
   "id": "001952a6-516e-4f8d-96c6-d3b59f36a062",
   "metadata": {},
   "outputs": [],
   "source": [
    "%matplotlib inline\n",
    "matplotlib.get_backend()"
   ]
  },
  {
   "cell_type": "code",
   "execution_count": null,
   "id": "434e6160-62b2-4eda-b9ab-528759e07ac4",
   "metadata": {},
   "outputs": [],
   "source": [
    "fig = plt.figure()\n",
    "plt.plot(d1, d2)\n",
    "plt.scatter(3, 5, label='L2')\n",
    "plt.title('Test')\n",
    "plt.legend()\n",
    "plt.xlabel('X value')\n",
    "plt.ylabel('Y label')\n",
    "plt.show()"
   ]
  },
  {
   "cell_type": "code",
   "execution_count": null,
   "id": "143c5021-d5f6-4500-b44a-21aeac7c67fd",
   "metadata": {},
   "outputs": [],
   "source": [
    "fig = plt.figure()\n",
    "plt.plot(d2.T)\n",
    "plt.title('Test')\n",
    "plt.xlabel('X value')\n",
    "plt.ylabel('Y label')\n",
    "plt.xlim(-0.5)\n",
    "plt.ylim(0)\n",
    "plt.show()"
   ]
  },
  {
   "cell_type": "markdown",
   "id": "204f771d-97ad-40c5-8b0a-630d4e3daa7d",
   "metadata": {},
   "source": [
    "## inline - uplot"
   ]
  },
  {
   "cell_type": "code",
   "execution_count": null,
   "id": "d4ad8d3c-5562-42ae-a0da-fabc7fff3887",
   "metadata": {},
   "outputs": [],
   "source": [
    "import uplot"
   ]
  },
  {
   "cell_type": "code",
   "execution_count": null,
   "id": "7c141f20-1c4b-4084-ae17-31f842d6e5a4",
   "metadata": {},
   "outputs": [],
   "source": [
    "%matplotlib inline\n",
    "inline = uplot.engine.MatplotEngine(backend='module://matplotlib_inline.backend_inline')\n",
    "inline.mpl.get_backend()"
   ]
  },
  {
   "cell_type": "code",
   "execution_count": null,
   "id": "8b3058ad-a0dc-4eb8-af9f-c665c87d1dcf",
   "metadata": {},
   "outputs": [],
   "source": [
    "f1 = uplot.figure(engine=inline)\n",
    "f1.plot(d1, d2)\n",
    "f1.scatter(3, 5, name='L2')\n",
    "f1.title('Test')\n",
    "f1.legend(True)\n",
    "f1.xlabel('X value')\n",
    "f1.ylabel('Y value')\n",
    "f1.sync_axis_scale()\n",
    "f1.show()"
   ]
  },
  {
   "cell_type": "code",
   "execution_count": null,
   "id": "4805f8f6-f406-4fbd-a221-b461e6118398",
   "metadata": {},
   "outputs": [],
   "source": [
    "f2 = uplot.figure(engine=inline, aspect_ratio=0.4)\n",
    "f2.plot(d2.T)\n",
    "f2.title('Test')\n",
    "f2.legend(True)\n",
    "f2.xlabel('X value')\n",
    "f2.ylabel('Y value')\n",
    "f2.xlim(-0.5)\n",
    "f2.ylim(0)\n",
    "f2.show()"
   ]
  },
  {
   "cell_type": "markdown",
   "id": "11e79955-e414-418f-91dd-2563f50a6296",
   "metadata": {},
   "source": [
    "## ipympl - matplotlib"
   ]
  },
  {
   "cell_type": "code",
   "execution_count": null,
   "id": "9d8e67ce-a3e6-4844-88b6-1ae91fa852a1",
   "metadata": {},
   "outputs": [],
   "source": [
    "%matplotlib ipympl\n",
    "matplotlib.get_backend()"
   ]
  },
  {
   "cell_type": "code",
   "execution_count": null,
   "id": "5091734e-f543-41dd-8761-4d35903b2d91",
   "metadata": {},
   "outputs": [],
   "source": [
    "fig = plt.figure()\n",
    "plt.plot(d1, d2)\n",
    "plt.scatter(3, 5, label='L2')\n",
    "plt.title('Test')\n",
    "plt.legend()\n",
    "plt.xlabel('X value')\n",
    "plt.ylabel('Y label')\n",
    "plt.show()"
   ]
  },
  {
   "cell_type": "code",
   "execution_count": null,
   "id": "c3d6ff75-a415-4acd-b786-57817e7e2a4b",
   "metadata": {},
   "outputs": [],
   "source": [
    "fig = plt.figure()\n",
    "plt.plot(d2.T)\n",
    "plt.title('Test')\n",
    "plt.xlabel('X value')\n",
    "plt.ylabel('Y label')\n",
    "plt.xlim(-0.5)\n",
    "plt.ylim(0)\n",
    "plt.show()"
   ]
  },
  {
   "cell_type": "markdown",
   "id": "dc189a2b-8ffb-4dca-a2a7-1523700b8730",
   "metadata": {},
   "source": [
    "## ipympl - uplot"
   ]
  },
  {
   "cell_type": "code",
   "execution_count": null,
   "id": "ec1ffab9-d371-4edb-acee-2068c6b27a0b",
   "metadata": {},
   "outputs": [],
   "source": [
    "%matplotlib ipympl\n",
    "ipympl = uplot.engine.MatplotEngine(backend='module://ipympl.backend_nbagg')\n",
    "ipympl.mpl.get_backend()"
   ]
  },
  {
   "cell_type": "code",
   "execution_count": null,
   "id": "6b7f7c2f-7a69-4395-9fc5-2fe5506d0ccb",
   "metadata": {},
   "outputs": [],
   "source": [
    "f1 = uplot.figure(engine=ipympl)\n",
    "f1.plot(d1, d2)\n",
    "f1.scatter(3, 5, name='L2')\n",
    "f1.title('Test')\n",
    "f1.legend(True)\n",
    "f1.xlabel('X value')\n",
    "f1.ylabel('Y value')\n",
    "f1.sync_axis_scale()\n",
    "f1.show()"
   ]
  },
  {
   "cell_type": "code",
   "execution_count": null,
   "id": "261adef1-9fb3-417b-8012-56144e2fcefe",
   "metadata": {},
   "outputs": [],
   "source": [
    "f2 = uplot.figure(engine=ipympl, aspect_ratio=0.4)\n",
    "f2.plot(d2.T)\n",
    "f2.title('Test')\n",
    "f2.legend(True)\n",
    "f2.xlabel('X value')\n",
    "f2.ylabel('Y value')\n",
    "f2.xlim(-0.5)\n",
    "f2.ylim(0)\n",
    "f2.show()"
   ]
  },
  {
   "cell_type": "markdown",
   "id": "6a0f7746-6cf2-4f21-83aa-2ebc0eb77436",
   "metadata": {},
   "source": [
    "# Plotly 5"
   ]
  },
  {
   "cell_type": "code",
   "execution_count": null,
   "id": "ab5d60cc-08ff-46bd-b4d8-874d598d47e5",
   "metadata": {},
   "outputs": [],
   "source": [
    "f1 = uplot.figure(engine='pl5')\n",
    "f1.plot(d1, d2)\n",
    "f1.scatter(3, 5, name='L2')\n",
    "f1.title('Test')\n",
    "f1.legend(True)\n",
    "f1.xlabel('X value')\n",
    "f1.ylabel('Y value')\n",
    "f1.sync_axis_scale()\n",
    "f1.show()"
   ]
  },
  {
   "cell_type": "code",
   "execution_count": null,
   "id": "9d0cfb96-a611-4b24-a8ca-af078384ea7c",
   "metadata": {},
   "outputs": [],
   "source": [
    "f2 = uplot.figure(aspect_ratio=0.4)\n",
    "f2.plot(d2.T)\n",
    "f2.title('Test')\n",
    "f2.legend(True)\n",
    "f2.xlabel('X value')\n",
    "f2.ylabel('Y value')\n",
    "f2.xlim(-0.5)\n",
    "f2.ylim(0)\n",
    "f2.show()"
   ]
  }
 ],
 "metadata": {
  "kernelspec": {
   "display_name": "Python 3 (ipykernel)",
   "language": "python",
   "name": "python3"
  },
  "language_info": {
   "codemirror_mode": {
    "name": "ipython",
    "version": 3
   },
   "file_extension": ".py",
   "mimetype": "text/x-python",
   "name": "python",
   "nbconvert_exporter": "python",
   "pygments_lexer": "ipython3",
   "version": "3.10.12"
  }
 },
 "nbformat": 4,
 "nbformat_minor": 5
}
